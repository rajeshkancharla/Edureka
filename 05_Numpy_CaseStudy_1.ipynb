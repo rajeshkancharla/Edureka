{
 "cells": [
  {
   "cell_type": "markdown",
   "metadata": {},
   "source": [
    "### Qn 1"
   ]
  },
  {
   "cell_type": "code",
   "execution_count": 1,
   "metadata": {},
   "outputs": [
    {
     "name": "stdout",
     "output_type": "stream",
     "text": [
      "    Salary  Gender  Age  PhD\n",
      "0   140.00       1   47    1\n",
      "1    30.00       0   65    1\n",
      "2    35.10       0   56    0\n",
      "3    30.00       1   23    0\n",
      "4    80.00       0   53    1\n",
      "5    30.00       0   27    0\n",
      "6    60.00       1   53    0\n",
      "7    31.10       0   30    0\n",
      "8   125.00       1   44    1\n",
      "9    51.00       1   63    1\n",
      "10    3.00       1   22    0\n",
      "11   46.00       1   59    0\n",
      "12  150.00       1   60    1\n",
      "13    3.00       1   28    0\n",
      "14  130.00       1   65    0\n",
      "15   15.00       0   25    0\n",
      "16  130.00       1   65    0\n",
      "17   84.00       0   47    1\n",
      "18  190.00       1   66    1\n",
      "19   74.00       1   45    1\n",
      "20   73.00       0   46    0\n",
      "21   10.00       0   24    0\n",
      "22   50.00       0   60    0\n",
      "23    7.00       0   63    0\n",
      "24    9.50       0   27    0\n",
      "25   15.20       1   66    1\n",
      "26   28.60       1   36    1\n",
      "27   20.00       0   30    0\n",
      "28   72.00       0   51    1\n",
      "29   81.00       1   65    1\n",
      "..     ...     ...  ...  ...\n",
      "70   40.70       0   57    0\n",
      "71   15.00       1   23    0\n",
      "72    0.25       0   53    0\n",
      "73  152.00       1   71    1\n",
      "74   39.80       0   20    0\n",
      "75   12.00       0   27    0\n",
      "76   30.00       1   69    1\n",
      "77  120.00       1   58    1\n",
      "78    1.70       1   37    0\n",
      "79   36.00       1   32    1\n",
      "80   96.00       1   33    1\n",
      "81   38.00       0   32    1\n",
      "82   90.00       1   60    0\n",
      "83    9.00       1   71    0\n",
      "84   25.80       0   30    0\n",
      "85   22.00       0   62    0\n",
      "86   38.80       0   54    0\n",
      "87   72.00       1   42    1\n",
      "88   89.00       1   62    0\n",
      "89   41.00       0   51    1\n",
      "90   89.00       1   71    1\n",
      "91   25.00       0   29    0\n",
      "92   52.00       1   55    1\n",
      "93  115.00       0   54    0\n",
      "94   66.00       0   55    1\n",
      "95   18.60       1   26    0\n",
      "96  152.00       1   56    1\n",
      "97    1.80       1   28    0\n",
      "98   35.00       0   44    0\n",
      "99    4.00       0   24    0\n",
      "\n",
      "[100 rows x 4 columns]\n"
     ]
    }
   ],
   "source": [
    "import pandas as pd\n",
    "import numpy as np\n",
    "df = pd.read_csv(\"C:/Users/Rajesh/Edureka/05_numpy_pandas/SalaryGender.csv\")\n",
    "print(df)\n",
    "\n",
    "np_salary_array = np.array(df[\"Salary\"])\n",
    "np_gender_array = np.array(df[\"Gender\"])\n",
    "np_age_array = np.array(df[\"Age\"])\n",
    "np_phd_array = np.array(df[\"PhD\"])"
   ]
  },
  {
   "cell_type": "markdown",
   "metadata": {},
   "source": [
    "### Qn 2"
   ]
  },
  {
   "cell_type": "code",
   "execution_count": 2,
   "metadata": {},
   "outputs": [
    {
     "data": {
      "text/plain": [
       "Salary    24\n",
       "Gender    24\n",
       "Age       24\n",
       "PhD       24\n",
       "dtype: int64"
      ]
     },
     "execution_count": 2,
     "metadata": {},
     "output_type": "execute_result"
    }
   ],
   "source": [
    "df[(df[\"Gender\"]==1) & (df[\"PhD\"]==1)].count()"
   ]
  },
  {
   "cell_type": "markdown",
   "metadata": {},
   "source": [
    "### Qn 3"
   ]
  },
  {
   "cell_type": "code",
   "execution_count": 3,
   "metadata": {},
   "outputs": [
    {
     "name": "stdout",
     "output_type": "stream",
     "text": [
      "    Age  PhD\n",
      "0    47    1\n",
      "1    65    1\n",
      "4    53    1\n",
      "8    44    1\n",
      "9    63    1\n",
      "12   60    1\n",
      "17   47    1\n",
      "18   66    1\n",
      "19   45    1\n",
      "25   66    1\n",
      "26   36    1\n",
      "28   51    1\n",
      "29   65    1\n",
      "30   45    1\n",
      "31   52    1\n",
      "32   54    1\n",
      "38   34    1\n",
      "41   58    1\n",
      "42   77    1\n",
      "45   48    1\n",
      "47   49    1\n",
      "49   65    1\n",
      "54   49    1\n",
      "56   61    1\n",
      "57   43    1\n",
      "60   66    1\n",
      "63   56    1\n",
      "73   71    1\n",
      "76   69    1\n",
      "77   58    1\n",
      "79   32    1\n",
      "80   33    1\n",
      "81   32    1\n",
      "87   42    1\n",
      "89   51    1\n",
      "90   71    1\n",
      "92   55    1\n",
      "94   55    1\n",
      "96   56    1\n"
     ]
    }
   ],
   "source": [
    "newdf = df[['Age', 'PhD']].copy()\n",
    "newdf.drop(newdf[newdf[\"PhD\"]!=1].index, inplace=True)\n",
    "print(newdf)"
   ]
  },
  {
   "cell_type": "markdown",
   "metadata": {},
   "source": [
    "### Qn 4"
   ]
  },
  {
   "cell_type": "code",
   "execution_count": 4,
   "metadata": {},
   "outputs": [
    {
     "data": {
      "text/plain": [
       "39"
      ]
     },
     "execution_count": 4,
     "metadata": {},
     "output_type": "execute_result"
    }
   ],
   "source": [
    "df[df[\"PhD\"]==1][\"PhD\"].count()"
   ]
  },
  {
   "cell_type": "markdown",
   "metadata": {},
   "source": [
    "### Qn 5"
   ]
  },
  {
   "cell_type": "code",
   "execution_count": 7,
   "metadata": {},
   "outputs": [
    {
     "name": "stdout",
     "output_type": "stream",
     "text": [
      "[4, 2, 1, 1, 3, 2, 0, 0, 0, 1]\n"
     ]
    }
   ],
   "source": [
    "import numpy as np\n",
    "a = np.array([0,5,4,0,4,4,3,0,0,5,2,1,1,9])\n",
    "unique, counts = np.unique(a, return_counts = True)\n",
    "a_dict = dict(zip(unique, counts))\n",
    "output = []\n",
    "for i in range(0,10):\n",
    "    output.append(a_dict.get(i,0))\n",
    "print(output)"
   ]
  },
  {
   "cell_type": "markdown",
   "metadata": {},
   "source": [
    "### Qn 6"
   ]
  },
  {
   "cell_type": "code",
   "execution_count": 10,
   "metadata": {},
   "outputs": [
    {
     "name": "stdout",
     "output_type": "stream",
     "text": [
      "[ 6  7  8  9 10 11]\n"
     ]
    }
   ],
   "source": [
    "import numpy as np\n",
    "a = np.array([[0,1,2],[3,4,5],[6,7,8],[9,10,11]])\n",
    "print(a[a[:]>5])"
   ]
  },
  {
   "cell_type": "markdown",
   "metadata": {},
   "source": [
    "### Qn 7"
   ]
  },
  {
   "cell_type": "code",
   "execution_count": 18,
   "metadata": {},
   "outputs": [
    {
     "name": "stdout",
     "output_type": "stream",
     "text": [
      "[ nan   1.   2.  nan   3.   4.   5.]\n",
      "[ 1.  2.  3.  4.  5.]\n"
     ]
    }
   ],
   "source": [
    "import numpy as np\n",
    "a = np.array([np.nan, 1., 2., np.nan, 3., 4., 5.])\n",
    "print(a)\n",
    "print(a[~np.isnan(a)])"
   ]
  },
  {
   "cell_type": "markdown",
   "metadata": {},
   "source": [
    "### Qn 8"
   ]
  },
  {
   "cell_type": "code",
   "execution_count": 26,
   "metadata": {},
   "outputs": [
    {
     "name": "stdout",
     "output_type": "stream",
     "text": [
      "[[ 0.35613487  0.63831465  0.04834816  0.62929653  0.15664484  0.9833559\n",
      "   0.8521234   0.96520453  0.5568246   0.53614321]\n",
      " [ 0.31905503  0.56433414  0.61749056  0.65686829  0.25524503  0.82500608\n",
      "   0.79591524  0.0747522   0.37553539  0.60898957]\n",
      " [ 0.06967372  0.31058228  0.50141788  0.56758593  0.61906439  0.6455497\n",
      "   0.13063161  0.24203678  0.4573489   0.38509429]\n",
      " [ 0.03883243  0.714773    0.60380195  0.36663165  0.48898869  0.26241028\n",
      "   0.18467058  0.20225743  0.1314183   0.33715257]\n",
      " [ 0.2775613   0.7490607   0.23221167  0.71675946  0.82027562  0.63626659\n",
      "   0.80338274  0.33254025  0.82145212  0.93287436]\n",
      " [ 0.54803053  0.195413    0.10175836  0.19439252  0.1402402   0.46323294\n",
      "   0.0854538   0.5336074   0.98054826  0.2995682 ]\n",
      " [ 0.786794    0.40994818  0.8263269   0.95139808  0.88857106  0.30426514\n",
      "   0.06637387  0.73072634  0.52223388  0.64362033]\n",
      " [ 0.69589416  0.8978087   0.64172182  0.03219425  0.55795977  0.32506875\n",
      "   0.31448106  0.55890122  0.74920587  0.39517209]\n",
      " [ 0.89413566  0.95903786  0.3646655   0.53850101  0.66654395  0.85592028\n",
      "   0.14011736  0.56523873  0.43021915  0.95222999]\n",
      " [ 0.71512513  0.2553828   0.53382577  0.28722171  0.25865861  0.34954931\n",
      "   0.91361264  0.6968347   0.22870474  0.90175273]]\n",
      "Min Value: 0.0321942500381\n",
      "Max Value: 0.9833558973\n"
     ]
    }
   ],
   "source": [
    "import numpy as np\n",
    "import random\n",
    "N=10\n",
    "a = np.random.random((N,N))\n",
    "print(a)\n",
    "print('Min Value: ' + str(a.min()))\n",
    "print('Max Value: ' + str(a.max()))\n"
   ]
  },
  {
   "cell_type": "markdown",
   "metadata": {},
   "source": [
    "### Qn 9"
   ]
  },
  {
   "cell_type": "code",
   "execution_count": 30,
   "metadata": {},
   "outputs": [
    {
     "name": "stdout",
     "output_type": "stream",
     "text": [
      "[ 0.59138368  0.44681763  0.39504353  0.85990888  0.83779524  0.55806078\n",
      "  0.99006092  0.1469243   0.43569755  0.20658965  0.99510423  0.15016859\n",
      "  0.41686535  0.96433193  0.82415144  0.16812108  0.71393643  0.80120577\n",
      "  0.86685783  0.1783704   0.38014902  0.15198164  0.32258824  0.50169843\n",
      "  0.48452247  0.13504162  0.0199418   0.03016397  0.45215538  0.81982991]\n",
      "Mean value for vector is :0.494848922357\n"
     ]
    }
   ],
   "source": [
    "import numpy as np\n",
    "x = np.random.random(30)\n",
    "print(x)\n",
    "mean = np.mean(x)\n",
    "print('Mean value for vector is :'+ str(mean))"
   ]
  },
  {
   "cell_type": "markdown",
   "metadata": {},
   "source": [
    "### Qn 10"
   ]
  },
  {
   "cell_type": "code",
   "execution_count": 37,
   "metadata": {},
   "outputs": [
    {
     "name": "stdout",
     "output_type": "stream",
     "text": [
      "[ 0  1  2  3  4  5  6  7  8  9 10]\n",
      "[0, 1, 2, -3, -4, -5, -6, -7, -8, -9, 10]\n"
     ]
    }
   ],
   "source": [
    "import numpy as np\n",
    "x = np.arange(0,11)\n",
    "print(x)\n",
    "op_list = []\n",
    "for i in x:\n",
    "    if i >= 3 and i <= 9:\n",
    "        op = i * -1\n",
    "    else:\n",
    "        op = i\n",
    "    op_list.append(op)\n",
    "\n",
    "print(op_list)"
   ]
  },
  {
   "cell_type": "code",
   "execution_count": null,
   "metadata": {
    "collapsed": true
   },
   "outputs": [],
   "source": []
  }
 ],
 "metadata": {
  "kernelspec": {
   "display_name": "Python 3",
   "language": "python",
   "name": "python3"
  },
  "language_info": {
   "codemirror_mode": {
    "name": "ipython",
    "version": 3
   },
   "file_extension": ".py",
   "mimetype": "text/x-python",
   "name": "python",
   "nbconvert_exporter": "python",
   "pygments_lexer": "ipython3",
   "version": "3.6.1"
  }
 },
 "nbformat": 4,
 "nbformat_minor": 2
}
