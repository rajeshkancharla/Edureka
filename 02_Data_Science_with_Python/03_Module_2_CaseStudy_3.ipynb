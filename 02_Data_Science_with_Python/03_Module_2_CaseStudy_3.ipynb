{
 "cells": [
  {
   "cell_type": "markdown",
   "metadata": {},
   "source": [
    "# Basic Check"
   ]
  },
  {
   "cell_type": "code",
   "execution_count": 1,
   "metadata": {},
   "outputs": [
    {
     "name": "stdout",
     "output_type": "stream",
     "text": [
      "True\n"
     ]
    }
   ],
   "source": [
    "import re\n",
    "\n",
    "def validate_referenceID(refID):\n",
    "    if len(refID) != 12:\n",
    "        return False\n",
    "    if not re.search(r'^(?=.*[a-z])(?=.*[0-9])[a-z0-9]{12}$', refID, flags = re.I):\n",
    "        return False\n",
    "    return True\n",
    "\n",
    "print(validate_referenceID(\"abCD12345678\"))"
   ]
  },
  {
   "cell_type": "markdown",
   "metadata": {},
   "source": [
    "# Advanced Check - With special chars"
   ]
  },
  {
   "cell_type": "code",
   "execution_count": 2,
   "metadata": {},
   "outputs": [
    {
     "name": "stdout",
     "output_type": "stream",
     "text": [
      "True\n"
     ]
    }
   ],
   "source": [
    "import re\n",
    "\n",
    "def validate_referenceID(refID):\n",
    "    if len(refID) != 12:\n",
    "        return False\n",
    "    if not re.search(r'^(?=.*[a-z])(?=.*[0-9])[a-z0-9!@#$%^&*]{12}$', refID, flags = re.I):\n",
    "        return False\n",
    "    return True\n",
    "\n",
    "print(validate_referenceID(\"abCD12#$%678\"))"
   ]
  },
  {
   "cell_type": "markdown",
   "metadata": {},
   "source": [
    "# Encryption & Decryption"
   ]
  },
  {
   "cell_type": "code",
   "execution_count": 3,
   "metadata": {},
   "outputs": [
    {
     "name": "stdout",
     "output_type": "stream",
     "text": [
      "Enter the Reference ID: abCD12#$%678\n",
      "Original Ref ID  :  abCD12#$%678\n",
      "Encrypted Ref ID :  b'gAAAAABmE2GMQUbT6WhmFBADsH5fU4OpkGpe6VrBc02tMMLULiPH9qxyovhmgt_V21E8euDeMxbIJKJn5Nc4JNgIYg3WviTrfw=='\n",
      "Decrypted Ref ID :  abCD12#$%678\n"
     ]
    }
   ],
   "source": [
    "from cryptography.fernet import Fernet\n",
    "refID = input('Enter the Reference ID: ')\n",
    "\n",
    "if validate_referenceID(refID):\n",
    "    key = Fernet.generate_key()\n",
    "    fernet = Fernet(key)\n",
    "    encryptedID = fernet.encrypt(refID.encode())\n",
    "    print('Original Ref ID  : ', refID)\n",
    "    print('Encrypted Ref ID : ', encryptedID)\n",
    "    \n",
    "    decryptedID = fernet.decrypt(encryptedID).decode()\n",
    "    print('Decrypted Ref ID : ', decryptedID)\n",
    "else:\n",
    "    print('Entered RefID ', refID, ' is not valid one.')\n",
    "    \n",
    "\n"
   ]
  },
  {
   "cell_type": "code",
   "execution_count": null,
   "metadata": {
    "collapsed": true
   },
   "outputs": [],
   "source": []
  }
 ],
 "metadata": {
  "kernelspec": {
   "display_name": "Python 3",
   "language": "python",
   "name": "python3"
  },
  "language_info": {
   "codemirror_mode": {
    "name": "ipython",
    "version": 3
   },
   "file_extension": ".py",
   "mimetype": "text/x-python",
   "name": "python",
   "nbconvert_exporter": "python",
   "pygments_lexer": "ipython3",
   "version": "3.6.1"
  }
 },
 "nbformat": 4,
 "nbformat_minor": 2
}
