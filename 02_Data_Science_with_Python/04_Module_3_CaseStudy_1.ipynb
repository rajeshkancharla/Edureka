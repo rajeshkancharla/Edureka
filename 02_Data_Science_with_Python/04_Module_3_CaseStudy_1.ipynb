{
 "cells": [
  {
   "cell_type": "markdown",
   "metadata": {},
   "source": [
    "# Qn 1"
   ]
  },
  {
   "cell_type": "code",
   "execution_count": 1,
   "metadata": {},
   "outputs": [
    {
     "name": "stdout",
     "output_type": "stream",
     "text": [
      "Type the direction - UP / DOWN / RIGHT / LEFT and step number: UP 5\n",
      "Type the direction - UP / DOWN / RIGHT / LEFT and step number: DOWN 2\n",
      "Type the direction - UP / DOWN / RIGHT / LEFT and step number: LEFT 3\n",
      "Type the direction - UP / DOWN / RIGHT / LEFT and step number: RIGHT 5\n",
      "Type the direction - UP / DOWN / RIGHT / LEFT and step number: \n",
      "Distance =  5.0\n"
     ]
    }
   ],
   "source": [
    "def calculate_distance(p_direction, p_steps):\n",
    "    x, y = 0, 0\n",
    "    p_steps = int(p_steps)\n",
    "    \n",
    "    if p_direction == 'UP':\n",
    "        y = y + p_steps\n",
    "    elif p_direction == 'DOWN':\n",
    "        y = y - p_steps\n",
    "    elif p_direction == 'RIGHT':\n",
    "        x = x + p_steps\n",
    "    elif p_direction == 'LEFT':\n",
    "        x = x - p_steps\n",
    "    else:\n",
    "        print('Invalid Entry')\n",
    "    return x, y\n",
    "\n",
    "import math\n",
    "\n",
    "while True:\n",
    "    step = input(\"Type the direction - UP / DOWN / RIGHT / LEFT and step number: \")\n",
    "    \n",
    "    if step == \"\":\n",
    "        break\n",
    "    else:\n",
    "        step = step.split(\" \")\n",
    "        x,y = calculate_distance(step[0], step[1])\n",
    "\n",
    "distance = math.sqrt(x**2 + y**2)\n",
    "print(\"Distance = \", distance)"
   ]
  },
  {
   "cell_type": "markdown",
   "metadata": {},
   "source": [
    "# Qn 2"
   ]
  },
  {
   "cell_type": "code",
   "execution_count": 2,
   "metadata": {},
   "outputs": [
    {
     "name": "stdout",
     "output_type": "stream",
     "text": [
      "-1\n",
      "5\n",
      "3\n"
     ]
    }
   ],
   "source": [
    "def search_sorted_list(lst, target):\n",
    "    lst.sort()\n",
    "    left, right = 0, len(lst)-1\n",
    "    while left <= right:\n",
    "        mid = left + (right - left) // 2\n",
    "        if lst[mid] == target:\n",
    "            return mid\n",
    "        elif lst[mid] < target:\n",
    "            left = mid + 1\n",
    "        else: \n",
    "            right = mid - 1\n",
    "    return -1\n",
    "\n",
    "op1 = search_sorted_list([1,2,3,4,5,6], 7)\n",
    "print(op1)\n",
    "op1 = search_sorted_list([1,2,3,4,5,6], 6)\n",
    "print(op1)\n",
    "op1 = search_sorted_list([1,2,3,4,5,6], 4)\n",
    "print(op1)"
   ]
  },
  {
   "cell_type": "markdown",
   "metadata": {},
   "source": [
    "# Qn 3"
   ]
  },
  {
   "cell_type": "code",
   "execution_count": 3,
   "metadata": {},
   "outputs": [
    {
     "name": "stdout",
     "output_type": "stream",
     "text": [
      "21:25:04.685678\n",
      "night\n"
     ]
    }
   ],
   "source": [
    "from datetime import datetime as dt, time\n",
    "\n",
    "def weather_forecast():\n",
    "    date_time_value = dt.now()\n",
    "    time_value = date_time_value.time()\n",
    "    print(time_value)\n",
    "    \n",
    "    if time_value >= time(20,0) or time_value <= time(7,0):\n",
    "        return \"night\"\n",
    "    else:\n",
    "        return \"day\"\n",
    "\n",
    "print(weather_forecast())"
   ]
  },
  {
   "cell_type": "markdown",
   "metadata": {},
   "source": [
    "# Qn 4"
   ]
  },
  {
   "cell_type": "code",
   "execution_count": 4,
   "metadata": {},
   "outputs": [
    {
     "name": "stdout",
     "output_type": "stream",
     "text": [
      "Result:  278.545487470481\n"
     ]
    }
   ],
   "source": [
    "from math import sin, cos, sqrt, atan2, radians\n",
    "\n",
    "R = 6373.0\n",
    "\n",
    "lat1 = radians(52.2296756)\n",
    "lon1 = radians(21.0122287)\n",
    "lat2 = radians(52.4063754)\n",
    "lon2 = radians(16.9251697)\n",
    "\n",
    "dlon = lon2 - lon1\n",
    "dlat = lat2 - lat1\n",
    "\n",
    "a = sin(dlat / 2)**2 + cos(lat1) * cos(lat2) * sin(dlon/2)**2\n",
    "c = 2 * atan2(sqrt(a), sqrt(1-a))\n",
    "\n",
    "distance = R * c\n",
    "\n",
    "print(\"Result: \", distance)"
   ]
  },
  {
   "cell_type": "markdown",
   "metadata": {},
   "source": [
    "# Qn 5"
   ]
  },
  {
   "cell_type": "code",
   "execution_count": 11,
   "metadata": {},
   "outputs": [
    {
     "name": "stdout",
     "output_type": "stream",
     "text": [
      "Type action and enter amount : DEPOSIT 100\n",
      "Type action and enter amount : WITHDRAW 150\n",
      "Type action and enter amount : \n",
      "Output :-150\n"
     ]
    }
   ],
   "source": [
    "def bank_system(p_action, p_balance, p_amount):\n",
    "    if p_action == 'WITHDRAW':\n",
    "        p_balance = p_balance - p_amount\n",
    "        ret_val = p_balance\n",
    "    elif p_action == 'DEPOSIT':\n",
    "        p_balance = p_balance + p_amount\n",
    "        ret_val = p_balance\n",
    "    elif p_action == 'ÇHANGE PASSWORD':\n",
    "        pwd = input(\"Enter the password: \")\n",
    "        ret_val = pwd\n",
    "    return ret_val\n",
    "    \n",
    "while True:\n",
    "    step = input(\"Type action and enter amount : \")\n",
    "    balance = 0\n",
    "    if step == \"\":\n",
    "        break\n",
    "    else:\n",
    "        step= step.split(\" \")\n",
    "        op = bank_system(step[0], int(balance), int(step[1]))\n",
    "\n",
    "print(\"Output :\" + str(op))"
   ]
  },
  {
   "cell_type": "markdown",
   "metadata": {},
   "source": [
    "# Qn 6"
   ]
  },
  {
   "cell_type": "code",
   "execution_count": 13,
   "metadata": {},
   "outputs": [
    {
     "name": "stdout",
     "output_type": "stream",
     "text": [
      "[2002, 2009, 2016, 2023, 2037, 2044, 2051, 2058, 2072, 2079, 2086, 2093, 2107, 2114, 2121, 2128, 2142, 2149, 2156, 2163, 2177, 2184, 2191, 2198, 2212, 2219, 2226, 2233, 2247, 2254, 2261, 2268, 2282, 2289, 2296, 2303, 2317, 2324, 2331, 2338, 2352, 2359, 2366, 2373, 2387, 2394, 2401, 2408, 2422, 2429, 2436, 2443, 2457, 2464, 2471, 2478, 2492, 2499, 2506, 2513, 2527, 2534, 2541, 2548, 2562, 2569, 2576, 2583, 2597, 2604, 2611, 2618, 2632, 2639, 2646, 2653, 2667, 2674, 2681, 2688, 2702, 2709, 2716, 2723, 2737, 2744, 2751, 2758, 2772, 2779, 2786, 2793, 2807, 2814, 2821, 2828, 2842, 2849, 2856, 2863, 2877, 2884, 2891, 2898, 2912, 2919, 2926, 2933, 2947, 2954, 2961, 2968, 2982, 2989, 2996, 3003, 3017, 3024, 3031, 3038, 3052, 3059, 3066, 3073, 3087, 3094, 3101, 3108, 3122, 3129, 3136, 3143, 3157, 3164, 3171, 3178, 3192, 3199]\n"
     ]
    }
   ],
   "source": [
    "print([i for i in range(2000,3201) if i%7 == 0 and i%5 != 0])"
   ]
  },
  {
   "cell_type": "markdown",
   "metadata": {},
   "source": [
    "# Qn 7"
   ]
  },
  {
   "cell_type": "code",
   "execution_count": 14,
   "metadata": {},
   "outputs": [
    {
     "name": "stdout",
     "output_type": "stream",
     "text": [
      "Enter a number (>=1) : 5\n",
      "The factorial of  5  is  120\n"
     ]
    }
   ],
   "source": [
    "def recur_factorial(n):\n",
    "    if n == 1:\n",
    "        return n\n",
    "    else:\n",
    "        return n * recur_factorial(n-1)\n",
    "\n",
    "num = int(input(\"Enter a number (>=1) : \"))\n",
    "\n",
    "if num < 0:\n",
    "    print(\"Sorry, factorial is not valid for negative numbers\")\n",
    "elif num == 0:\n",
    "    print(\"The factorial of 0 is 1\")\n",
    "else:\n",
    "    print(\"The factorial of \", num, \" is \", recur_factorial(num))"
   ]
  },
  {
   "cell_type": "markdown",
   "metadata": {},
   "source": [
    "# Qn 8"
   ]
  },
  {
   "cell_type": "code",
   "execution_count": 15,
   "metadata": {},
   "outputs": [
    {
     "name": "stdout",
     "output_type": "stream",
     "text": [
      "[18, 22, 24]\n"
     ]
    }
   ],
   "source": [
    "import math\n",
    "c = 50\n",
    "h = 30\n",
    "\n",
    "def calculate(p_num):\n",
    "    return round(math.sqrt((2*c*p_num)/h))\n",
    "\n",
    "inp_list = [100,150,180]\n",
    "\n",
    "op_list = [calculate(element) for element in inp_list]\n",
    "print(op_list)"
   ]
  },
  {
   "cell_type": "markdown",
   "metadata": {},
   "source": [
    "# Qn 9"
   ]
  },
  {
   "cell_type": "code",
   "execution_count": 16,
   "metadata": {},
   "outputs": [
    {
     "name": "stdout",
     "output_type": "stream",
     "text": [
      "Enter the first value: 3\n",
      "Enter the second value: 5\n",
      "[0, 1, 2]\n",
      "[0, 1, 2, 3, 4]\n",
      "[[0, 0, 0, 0, 0], [0, 1, 2, 3, 4], [0, 2, 4, 6, 8]]\n"
     ]
    }
   ],
   "source": [
    "x = int(input(\"Enter the first value: \"))\n",
    "y = int(input(\"Enter the second value: \"))\n",
    "\n",
    "arr1 = [i for i in range(x)]\n",
    "arr2 = [j for j in range(y)]\n",
    "\n",
    "print(arr1)\n",
    "print(arr2)\n",
    "final_list = []\n",
    "\n",
    "for i in arr1:\n",
    "    final_list.append([i*j for j in arr2])\n",
    "\n",
    "print(final_list)"
   ]
  },
  {
   "cell_type": "markdown",
   "metadata": {},
   "source": [
    "# Qn 10"
   ]
  },
  {
   "cell_type": "code",
   "execution_count": 17,
   "metadata": {},
   "outputs": [
    {
     "name": "stdout",
     "output_type": "stream",
     "text": [
      "Enter the list of words : without,hello,bag,world\n",
      "['bag', 'hello', 'without', 'world']\n"
     ]
    }
   ],
   "source": [
    "x = input(\"Enter the list of words : \")\n",
    "print(sorted(list(x.split(\",\"))))"
   ]
  },
  {
   "cell_type": "markdown",
   "metadata": {},
   "source": [
    "# Qn 11"
   ]
  },
  {
   "cell_type": "code",
   "execution_count": 18,
   "metadata": {},
   "outputs": [
    {
     "name": "stdout",
     "output_type": "stream",
     "text": [
      "Enter the list of words : hello world\n",
      "HELLO WORLD\n"
     ]
    }
   ],
   "source": [
    "x = input(\"Enter the list of words : \")\n",
    "print(x.upper())"
   ]
  },
  {
   "cell_type": "markdown",
   "metadata": {},
   "source": [
    "# Qn 12"
   ]
  },
  {
   "cell_type": "code",
   "execution_count": 19,
   "metadata": {},
   "outputs": [
    {
     "name": "stdout",
     "output_type": "stream",
     "text": [
      "Enter the list of words : hello world and practice makes perfect and hello again\n",
      "{'practice', 'makes', 'hello', 'and', 'world', 'perfect', 'again'}\n",
      "again and hello makes perfect practice world\n"
     ]
    }
   ],
   "source": [
    "x = input(\"Enter the list of words : \")\n",
    "print(set(list(x.split(\" \"))))\n",
    "st = ' '.join(sorted(set(sorted(list(x.split(\" \"))))))\n",
    "print(st)"
   ]
  },
  {
   "cell_type": "markdown",
   "metadata": {},
   "source": [
    "# Qn 13"
   ]
  },
  {
   "cell_type": "code",
   "execution_count": 20,
   "metadata": {},
   "outputs": [
    {
     "name": "stdout",
     "output_type": "stream",
     "text": [
      "Enter the list of binary values: 0000,0001,0010,0011,0100,0101,0110,0111,1000,1001,1010,1011,1100,1101,1110,1111\n",
      "[0, 5, 10, 15]\n",
      "['0', '101', '1010', '1111']\n"
     ]
    }
   ],
   "source": [
    "binary_string = input(\"Enter the list of binary values: \")\n",
    "binary_list = list(binary_string.split(\",\"))\n",
    "decimal_list = [int(binary,2) for binary in binary_list if int(binary,2)%5 == 0]\n",
    "print(decimal_list)\n",
    "print([format(decimal_value,\"b\") for decimal_value in decimal_list])"
   ]
  },
  {
   "cell_type": "markdown",
   "metadata": {},
   "source": [
    "# Qn 14"
   ]
  },
  {
   "cell_type": "code",
   "execution_count": 21,
   "metadata": {},
   "outputs": [
    {
     "name": "stdout",
     "output_type": "stream",
     "text": [
      "Enter the string : Hello World!\n",
      "Upper case  2\n",
      "Lower case  8\n"
     ]
    }
   ],
   "source": [
    "input_str = input(\"Enter the string : \")\n",
    "input_list = list(input_str)\n",
    "upper  = len([i.isupper() for i in input_list if i.isupper()])\n",
    "lower  = len([i.islower() for i in input_list if i.islower()])\n",
    "print(\"Upper case \", upper)\n",
    "print(\"Lower case \", lower)"
   ]
  },
  {
   "cell_type": "markdown",
   "metadata": {},
   "source": [
    "# Qn 15"
   ]
  },
  {
   "cell_type": "code",
   "execution_count": 22,
   "metadata": {},
   "outputs": [
    {
     "name": "stdout",
     "output_type": "stream",
     "text": [
      "0.0\n",
      "1e-20\n"
     ]
    }
   ],
   "source": [
    "import math\n",
    "values = [1,1e-20,-1]\n",
    "print(sum(values))\n",
    "print(math.fsum(values))"
   ]
  },
  {
   "cell_type": "code",
   "execution_count": null,
   "metadata": {
    "collapsed": true
   },
   "outputs": [],
   "source": []
  }
 ],
 "metadata": {
  "kernelspec": {
   "display_name": "Python 3",
   "language": "python",
   "name": "python3"
  },
  "language_info": {
   "codemirror_mode": {
    "name": "ipython",
    "version": 3
   },
   "file_extension": ".py",
   "mimetype": "text/x-python",
   "name": "python",
   "nbconvert_exporter": "python",
   "pygments_lexer": "ipython3",
   "version": "3.6.1"
  }
 },
 "nbformat": 4,
 "nbformat_minor": 2
}
