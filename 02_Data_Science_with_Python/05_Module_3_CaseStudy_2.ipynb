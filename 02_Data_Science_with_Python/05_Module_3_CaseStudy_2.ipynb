{
 "cells": [
  {
   "cell_type": "code",
   "execution_count": 40,
   "metadata": {},
   "outputs": [
    {
     "name": "stdout",
     "output_type": "stream",
     "text": [
      "Type profession name and age (Ex: STUDENT 25) or enter END to exit : HOUSEMAID 33\n",
      "Profession housemaid is in the valid jobs list. Client is eligible for given age 33\n",
      "Type profession name and age (Ex: STUDENT 25) or enter END to exit : admin. 55\n",
      "Profession admin. is in the valid jobs list. Client is eligible for given age 55\n",
      "Type profession name and age (Ex: STUDENT 25) or enter END to exit : student 22\n",
      "Profession student is in the valid jobs list. Client is eligible for given age 22\n",
      "Type profession name and age (Ex: STUDENT 25) or enter END to exit : engineer 42\n",
      "Profession engineer is not in the valid jobs list. Client is not eligible for given age 42\n",
      "Type profession name and age (Ex: STUDENT 25) or enter END to exit : END\n"
     ]
    }
   ],
   "source": [
    "from IPython.display import display\n",
    "import pandas as pd\n",
    "\n",
    "def check_eligibility(p_profession, p_age):\n",
    "    # Read the file into dataframe\n",
    "    df = pd.read_csv(r\"C:\\Users\\Rajesh\\Edureka\\02_Data_Science_With_Python\\1937_m3_datasets_v1_jp0_zpnuw9a\\bank-data.csv\")\n",
    "\n",
    "    jobs_list = df['job'].tolist()\n",
    "\n",
    "    if p_profession in jobs_list:\n",
    "\n",
    "        df_new = df.groupby('job').agg({'age': ['min','max']})\n",
    "\n",
    "        min_age = int(df_new[df_new.index==p_profession]['age']['min'][0])\n",
    "        max_age = int(df_new[df_new.index==p_profession]['age']['max'][0])\n",
    "\n",
    "        if min_age <= int(p_age) and int(p_age) <= max_age:\n",
    "            outcome = 'Profession ' + p_profession + ' is in the valid jobs list. Client is eligible for given age ' + str(p_age)\n",
    "        else:\n",
    "            outcome = 'Profession ' + p_profession + ' is in the valid jobs list. Client is not eligible for given age ' + str(p_age)\n",
    "\n",
    "    else:\n",
    "        outcome = 'Profession ' + p_profession + ' is not in the valid jobs list. Client is not eligible for given age ' + str(p_age)\n",
    "\n",
    "    return outcome\n",
    "\n",
    "while True:\n",
    "    step = input(\"Type profession name and age (Ex: STUDENT 25) or enter END to exit : \")\n",
    "    \n",
    "    if step == \"END\":\n",
    "        break\n",
    "    else:\n",
    "        step = step.split(\" \")\n",
    "        outcome = check_eligibility(step[0].lower(), step[1])\n",
    "    \n",
    "    print(outcome)\n"
   ]
  },
  {
   "cell_type": "code",
   "execution_count": null,
   "metadata": {
    "collapsed": true
   },
   "outputs": [],
   "source": []
  }
 ],
 "metadata": {
  "kernelspec": {
   "display_name": "Python 3",
   "language": "python",
   "name": "python3"
  },
  "language_info": {
   "codemirror_mode": {
    "name": "ipython",
    "version": 3
   },
   "file_extension": ".py",
   "mimetype": "text/x-python",
   "name": "python",
   "nbconvert_exporter": "python",
   "pygments_lexer": "ipython3",
   "version": "3.6.1"
  }
 },
 "nbformat": 4,
 "nbformat_minor": 2
}
