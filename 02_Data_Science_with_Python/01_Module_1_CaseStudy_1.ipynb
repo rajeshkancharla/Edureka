{
 "cells": [
  {
   "cell_type": "markdown",
   "metadata": {},
   "source": [
    "# Qn 1"
   ]
  },
  {
   "cell_type": "code",
   "execution_count": 9,
   "metadata": {},
   "outputs": [
    {
     "name": "stdout",
     "output_type": "stream",
     "text": [
      "Enter the number: 108\n",
      "Even Factors:  [2, 4, 6, 12, 18, 36, 54, 108]\n",
      "Odd Factors :  [1, 3, 9, 27]\n"
     ]
    }
   ],
   "source": [
    "x = int(input('Enter the number: '))\n",
    "even_factors = []\n",
    "odd_factors = []\n",
    "for i in range(1,x+1):\n",
    "    if x%i == 0:\n",
    "        if i%2 == 0:\n",
    "            even_factors.append(i)\n",
    "        else:\n",
    "            odd_factors.append(i)\n",
    "    else:\n",
    "        pass\n",
    "print('Even Factors: ', even_factors)\n",
    "print('Odd Factors : ', odd_factors)"
   ]
  },
  {
   "cell_type": "markdown",
   "metadata": {},
   "source": [
    "# Qn 2"
   ]
  },
  {
   "cell_type": "code",
   "execution_count": 17,
   "metadata": {},
   "outputs": [
    {
     "name": "stdout",
     "output_type": "stream",
     "text": [
      "Enter the sequence of words (with separator as comma) : dfer, abcd, zser, ywer\n",
      "Input data:  dfer, abcd, zser, ywer\n",
      "Processed & Sorted List:  ['abcd', 'dfer', 'ywer', 'zser']\n"
     ]
    }
   ],
   "source": [
    "x = input(\"Enter the sequence of words (with separator as comma) : \")\n",
    "print('Input data: ' , x)\n",
    "print('Processed & Sorted List: ' , sorted([x.strip() for x in x.split(\",\")]))"
   ]
  },
  {
   "cell_type": "markdown",
   "metadata": {},
   "source": [
    "# Qn 3"
   ]
  },
  {
   "cell_type": "code",
   "execution_count": 20,
   "metadata": {},
   "outputs": [
    {
     "name": "stdout",
     "output_type": "stream",
     "text": [
      "[2000, 2002, 2004, 2006, 2008, 2020, 2022, 2024, 2026, 2028, 2040, 2042, 2044, 2046, 2048, 2060, 2062, 2064, 2066, 2068, 2080, 2082, 2084, 2086, 2088, 2200, 2202, 2204, 2206, 2208, 2220, 2222, 2224, 2226, 2228, 2240, 2242, 2244, 2246, 2248, 2260, 2262, 2264, 2266, 2268, 2280, 2282, 2284, 2286, 2288, 2400, 2402, 2404, 2406, 2408, 2420, 2422, 2424, 2426, 2428, 2440, 2442, 2444, 2446, 2448, 2460, 2462, 2464, 2466, 2468, 2480, 2482, 2484, 2486, 2488, 2600, 2602, 2604, 2606, 2608, 2620, 2622, 2624, 2626, 2628, 2640, 2642, 2644, 2646, 2648, 2660, 2662, 2664, 2666, 2668, 2680, 2682, 2684, 2686, 2688, 2800, 2802, 2804, 2806, 2808, 2820, 2822, 2824, 2826, 2828, 2840, 2842, 2844, 2846, 2848, 2860, 2862, 2864, 2866, 2868, 2880, 2882, 2884, 2886, 2888]\n"
     ]
    }
   ],
   "source": [
    "final_list = []\n",
    "for i in range(1000,3001):\n",
    "    i_list = [int(d) for d in str(i)]\n",
    "    flag = 'odd'\n",
    "    for j in i_list:\n",
    "        if j%2==0:\n",
    "            flag = 'even'\n",
    "        else:\n",
    "            flag = 'odd'\n",
    "            break\n",
    "    if flag == 'even':\n",
    "        final_list.append(i)\n",
    "print(final_list)"
   ]
  },
  {
   "cell_type": "markdown",
   "metadata": {},
   "source": [
    "# Qn 4"
   ]
  },
  {
   "cell_type": "code",
   "execution_count": 28,
   "metadata": {},
   "outputs": [
    {
     "name": "stdout",
     "output_type": "stream",
     "text": [
      "Enter the string with chars and digits: Python0325\n",
      "LETTERS:  6\n",
      "DIGITS :  4\n"
     ]
    }
   ],
   "source": [
    "x = input(\"Enter the string with chars and digits: \")\n",
    "alpha_counter = 0\n",
    "int_counter = 0\n",
    "\n",
    "for i in [letter for letter in x]:\n",
    "    if i.isalpha():\n",
    "        alpha_counter += 1\n",
    "    if i.isnumeric():\n",
    "        int_counter += 1\n",
    "\n",
    "print('LETTERS: ', alpha_counter)\n",
    "print('DIGITS : ', int_counter)\n",
    "        "
   ]
  },
  {
   "cell_type": "markdown",
   "metadata": {},
   "source": [
    "# Qn 5"
   ]
  },
  {
   "cell_type": "code",
   "execution_count": null,
   "metadata": {
    "collapsed": true
   },
   "outputs": [],
   "source": [
    "x = int(input(\"Enter the number to check for palindrome\"))\n",
    "x_list = [int(d) for d in str(x)]\n",
    "if x_list == x_list"
   ]
  },
  {
   "cell_type": "code",
   "execution_count": null,
   "metadata": {
    "collapsed": true
   },
   "outputs": [],
   "source": []
  },
  {
   "cell_type": "code",
   "execution_count": null,
   "metadata": {
    "collapsed": true
   },
   "outputs": [],
   "source": []
  }
 ],
 "metadata": {
  "kernelspec": {
   "display_name": "Python 3",
   "language": "python",
   "name": "python3"
  },
  "language_info": {
   "codemirror_mode": {
    "name": "ipython",
    "version": 3
   },
   "file_extension": ".py",
   "mimetype": "text/x-python",
   "name": "python",
   "nbconvert_exporter": "python",
   "pygments_lexer": "ipython3",
   "version": "3.6.1"
  }
 },
 "nbformat": 4,
 "nbformat_minor": 2
}
